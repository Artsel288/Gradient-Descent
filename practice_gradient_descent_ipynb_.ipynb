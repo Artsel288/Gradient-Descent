{
  "cells": [
    {
      "cell_type": "markdown",
      "metadata": {
        "id": "zClWBojpCbsj"
      },
      "source": [
        "# Gradient descent for function with one variable\n"
      ]
    },
    {
      "cell_type": "markdown",
      "metadata": {
        "id": "cbBE4gTDCbso"
      },
      "source": [
        "In this notebook, we will write gradient descent for single variable functions and also visualize how it works.\n"
      ]
    },
    {
      "cell_type": "code",
      "execution_count": 53,
      "metadata": {
        "id": "maMbETiaCbsp"
      },
      "outputs": [],
      "source": [
        "import numpy as np\n",
        "import matplotlib.pyplot as plt"
      ]
    },
    {
      "cell_type": "markdown",
      "metadata": {
        "id": "QDEVkoA7Cbsr"
      },
      "source": [
        "Let $f(x) = x^2 \\cdot sin(x)$:"
      ]
    },
    {
      "cell_type": "code",
      "execution_count": 54,
      "metadata": {
        "id": "_iqc57I8Cbsr"
      },
      "outputs": [],
      "source": [
        "def f(x):\n",
        "    return x**2 * np.sin(x)"
      ]
    },
    {
      "cell_type": "markdown",
      "metadata": {
        "id": "5kzmXldDCbss"
      },
      "source": [
        "derivative of the function above: $f'(x) = 2x\\cdot sin(x) + x^2cos(x)$:"
      ]
    },
    {
      "cell_type": "code",
      "execution_count": 55,
      "metadata": {
        "id": "q_UbTmLICbss"
      },
      "outputs": [],
      "source": [
        "def f_dash(x):\n",
        "    return 2*x*np.sin(x) + x**2*np.cos(x)"
      ]
    },
    {
      "cell_type": "markdown",
      "metadata": {
        "id": "CRcgRyGmCbst"
      },
      "source": [
        "Visualize the function:\n"
      ]
    },
    {
      "cell_type": "code",
      "execution_count": 56,
      "metadata": {
        "id": "nwNGfRi0Cbst"
      },
      "outputs": [],
      "source": [
        "def draw_plot(f, x_begin, x_end):\n",
        "    x_array = np.linspace(x_begin, x_end, 1000)\n",
        "    plt.plot(x_array, f(x_array))"
      ]
    },
    {
      "cell_type": "code",
      "execution_count": 57,
      "metadata": {
        "id": "qTEng7nSCbst",
        "outputId": "2c5a09bc-2902-4907-d7e6-d44ff669c13f",
        "colab": {
          "base_uri": "https://localhost:8080/",
          "height": 265
        }
      },
      "outputs": [
        {
          "output_type": "display_data",
          "data": {
            "text/plain": [
              "<Figure size 432x288 with 1 Axes>"
            ],
            "image/png": "[encoded data removed]"
          },
          "metadata": {
            "needs_background": "light"
          }
        }
      ],
      "source": [
        "draw_plot(f, x_begin=1, x_end=8)"
      ]
    },
    {
      "cell_type": "markdown",
      "metadata": {
        "id": "EvvtZiCqCbsv"
      },
      "source": [
        "Now let's write the Gradient descent algorithm\n",
        "\n",
        "Recall how the gradient optimization algorithm works:\n",
        "1. Take a random point $х$ of the function $f$ and fix $\\alpha$ and $\\epsilon$\n",
        "2. Calculate the derivative $f’(x)$\n",
        "3. Move $x$: $x_{new} = x - \\alpha⋅f’(x) $\n",
        "4. Repeat again starting from point 2 until $\\Delta y = y(x_{new}) - y(x)$ is less than $\\epsilon$ modulo\n",
        "\n"
      ]
    },
    {
      "cell_type": "markdown",
      "metadata": {
        "id": "a2Bkkui9Cbsv"
      },
      "source": [
        "Let's first write a function that makes 1 step of gradient descent (points 2-3 in the algorithm above)"
      ]
    },
    {
      "cell_type": "code",
      "execution_count": 58,
      "metadata": {
        "id": "xLKzZR-rCbsw"
      },
      "outputs": [],
      "source": [
        "def gradient_descent_step(f_dash, x, alpha=0.001):\n",
        "    \n",
        "    # calc the result of derivative function in certain point\n",
        "    f_dash_x = f_dash(x)\n",
        "    # calc the value delta x aplha * value of der. function\n",
        "    delta_x = alpha*f_dash_x\n",
        "    # make the step of gradient descent by giving to x a new value\n",
        "    x_new = x - delta_x\n",
        "    \n",
        "    return x_new\n",
        "    "
      ]
    },
    {
      "cell_type": "code",
      "execution_count": 59,
      "metadata": {
        "id": "a1L9IvjFCbsx",
        "outputId": "2ceebcb6-ede6-4c37-d29d-fc6a689dbadf",
        "colab": {
          "base_uri": "https://localhost:8080/"
        }
      },
      "outputs": [
        {
          "output_type": "execute_result",
          "data": {
            "text/plain": [
              "1.8027397638885843"
            ]
          },
          "metadata": {},
          "execution_count": 59
        }
      ],
      "source": [
        "gradient_descent_step(f_dash, 2, alpha=0.1)"
      ]
    },
    {
      "cell_type": "code",
      "execution_count": 60,
      "metadata": {
        "id": "Zt0asGoBCbsy"
      },
      "outputs": [],
      "source": [
        "from IPython.display import clear_output\n",
        "\n",
        "# function for visualizing our graph and movement \n",
        "# of the point of descent in exact moment\n",
        "def draw_plot(f, x_begin, x_end, xs, ys):\n",
        "\n",
        "    x_ = np.linspace(x_begin, x_end, 1000)\n",
        "    plt.plot(x_, f(x_))\n",
        "\n",
        "    plt.scatter(xs, ys)\n",
        "\n",
        "    plt.annotate(' x = {}, y = {}'.format(round(xs[-1], 1), round(ys[-1], 1)), (xs[-1], ys[-1]))\n",
        "\n",
        "    plt.title(\"f(x)\")\n",
        "\n",
        "    plt.show()\n",
        "\n",
        "    clear_output(wait=True)"
      ]
    },
    {
      "cell_type": "code",
      "execution_count": 61,
      "metadata": {
        "id": "gHeBiwSxCbsz"
      },
      "outputs": [],
      "source": [
        "def gradient_descent(f, f_dash, x, alpha=0.001, epsilon=0.01):\n",
        "\n",
        "    y = f(x)\n",
        "    \n",
        "    global xs, ys\n",
        "    xs = [x]\n",
        "    ys = [y]\n",
        "    \n",
        "    while True:\n",
        "        x = gradient_descent_step(f_dash, x, alpha)\n",
        "\n",
        "        y = f(x)\n",
        "\n",
        "        previous_y = ys[-1]\n",
        "\n",
        "        delta_y = np.abs(y - previous_y)\n",
        "        \n",
        "\n",
        "        xs.append(x)\n",
        "        ys.append(y)\n",
        "        \n",
        "\n",
        "        print(\"current х: {}, current y: {}\".format(x, y))\n",
        "        print(\"difference between to last y: {}\".format(delta_y))\n",
        "\n",
        "        \n",
        "\n",
        "        if delta_y < epsilon:\n",
        "                break\n",
        "        \n",
        "    "
      ]
    },
    {
      "cell_type": "markdown",
      "metadata": {
        "id": "hsSqYovNCbsz"
      },
      "source": [
        "\n",
        "Set the values ​​of $\\alpha$ and $\\epsilon$:\n"
      ]
    },
    {
      "cell_type": "code",
      "execution_count": 62,
      "metadata": {
        "id": "DEgWp2xZCbs0"
      },
      "outputs": [],
      "source": [
        "alpha = 0.005\n",
        "epsilon = 0.001"
      ]
    },
    {
      "cell_type": "markdown",
      "metadata": {
        "id": "2Y-W--uuCbs0"
      },
      "source": [
        "And the initial value of the x coordinate, from which we will find the minimum using gradient descent:\n"
      ]
    },
    {
      "cell_type": "code",
      "execution_count": 63,
      "metadata": {
        "id": "q64-W22GCbs1"
      },
      "outputs": [],
      "source": [
        "x = 2.5"
      ]
    },
    {
      "cell_type": "markdown",
      "metadata": {
        "id": "crvYPOKNCbs1"
      },
      "source": [
        "And run gradient descent:\n"
      ]
    },
    {
      "cell_type": "code",
      "execution_count": 64,
      "metadata": {
        "id": "EyRxMEgxCbs2",
        "outputId": "ca5d9257-713a-4ae1-d80f-f790ac63faee",
        "colab": {
          "base_uri": "https://localhost:8080/"
        }
      },
      "outputs": [
        {
          "output_type": "stream",
          "name": "stdout",
          "text": [
            "current х: 2.5100739343832426, current y: 3.7196170000760804\n",
            "difference between to last y: 0.0208339005736482\n",
            "current х: 2.520681733760468, current y: 3.696511416743356\n",
            "difference between to last y: 0.0231055833327245\n",
            "current х: 2.53185643232316, current y: 3.6708644867919094\n",
            "difference between to last y: 0.025646929951446573\n",
            "current х: 2.543633503727008, current y: 3.642371418907018\n",
            "difference between to last y: 0.028493067884891143\n",
            "current х: 2.5560510682109636, current y: 3.610687294072976\n",
            "difference between to last y: 0.03168412483404204\n",
            "current х: 2.5691501178124967, current y: 3.57542130246692\n",
            "difference between to last y: 0.03526599160605626\n",
            "current х: 2.5829747608299023, current y: 3.5361300976751124\n",
            "difference between to last y: 0.03929120479180748\n",
            "current х: 2.597572486563042, current y: 3.492310130684152\n",
            "difference between to last y: 0.043819966990960246\n",
            "current х: 2.6129944511532224, current y: 3.4433888065872567\n",
            "difference between to last y: 0.048921324096895535\n",
            "current х: 2.6292957850065406, current y: 3.3887142859397916\n",
            "difference between to last y: 0.05467452064746503\n",
            "current х: 2.6465359217772866, current y: 3.327543730803088\n",
            "difference between to last y: 0.06117055513670344\n",
            "current х: 2.664778948148752, current y: 3.259029773818004\n",
            "difference between to last y: 0.06851395698508433\n",
            "current х: 2.6840939725991335, current y: 3.1822049689587932\n",
            "difference between to last y: 0.07682480485921062\n",
            "current х: 2.7045555098774905, current y: 3.0959639678047375\n",
            "difference between to last y: 0.08624100115405575\n",
            "current х: 2.7262438759060013, current y: 2.999043159642097\n",
            "difference between to last y: 0.0969208081626407\n",
            "current х: 2.7492455850996715, current y: 2.889997524080197\n",
            "difference between to last y: 0.10904563556189961\n",
            "current х: 2.773653738436853, current y: 2.767174480832208\n",
            "difference between to last y: 0.1228230432479891\n",
            "current х: 2.7995683857524676, current y: 2.6286845968496753\n",
            "difference between to last y: 0.1384898839825328\n",
            "current х: 2.8270968393271554, current y: 2.4723691458894246\n",
            "difference between to last y: 0.15631545096025068\n",
            "current х: 2.8563539075086495, current y: 2.2957647372949053\n",
            "difference between to last y: 0.1766044085945193\n",
            "current х: 2.8874620063602716, current y: 2.096065576604622\n",
            "difference between to last y: 0.19969916069028315\n",
            "current х: 2.9205510936701153, current y: 1.8700844399322474\n",
            "difference between to last y: 0.22598113667237474\n",
            "current х: 2.955758352549385, current y: 1.614214200024167\n",
            "difference between to last y: 0.25587023990808033\n",
            "current х: 2.9932275308492216, current y: 1.3243928114196997\n",
            "difference between to last y: 0.2898213886044674\n",
            "current х: 3.03310781750313, current y: 0.9960761323098677\n",
            "difference between to last y: 0.328316679109832\n",
            "current х: 3.075552107895562, current y: 0.6242249180210363\n",
            "difference between to last y: 0.3718512142888314\n",
            "current х: 3.1207144785607737, current y: 0.20331482828084999\n",
            "difference between to last y: 0.4209100897401863\n",
            "current х: 3.168746659455102, current y: -0.27261865661199974\n",
            "difference between to last y: 0.4759334848928497\n",
            "current х: 3.219793264473394, current y: -0.8098850602959513\n",
            "difference between to last y: 0.5372664036839516\n",
            "current х: 3.2739855257869914, current y: -1.4149746600616007\n",
            "difference between to last y: 0.6050895997656494\n",
            "current х: 3.3314332873014583, current y: -2.0943036619998456\n",
            "difference between to last y: 0.679329001938245\n",
            "current х: 3.3922150646326323, current y: -2.8538467552356455\n",
            "difference between to last y: 0.7595430932357998\n",
            "current х: 3.4563660962841105, current y: -3.698638641297804\n",
            "difference between to last y: 0.8447918860621586\n",
            "current х: 3.5238645192339235, current y: -4.632136669876421\n",
            "difference between to last y: 0.933498028578617\n",
            "current х: 3.5946161256419353, current y: -5.655457071800279\n",
            "difference between to last y: 1.0233204019238578\n",
            "current х: 3.668438606448266, current y: -6.766529547276383\n",
            "difference between to last y: 1.1110724754761039\n",
            "current х: 3.745046742765476, current y: -7.959258467053836\n",
            "difference between to last y: 1.192728919777453\n",
            "current х: 3.824040596828328, current y: -9.222827704104965\n",
            "difference between to last y: 1.2635692370511293\n",
            "current х: 3.904899242545186, current y: -10.541326711456449\n",
            "difference between to last y: 1.318499007351484\n",
            "current х: 3.986982756334555, current y: -11.89388730935312\n",
            "difference between to last y: 1.3525605978966713\n",
            "current х: 4.069544828250924, current y: -13.255481220223459\n",
            "difference between to last y: 1.3615939108703383\n",
            "current х: 4.151757275597078, current y: -14.598424441897027\n",
            "difference between to last y: 1.3429432216735684\n",
            "current х: 4.232745949019545, current y: -15.894475976247678\n",
            "difference between to last y: 1.2960515343506511\n",
            "current х: 4.311635296857595, current y: -17.117246055641473\n",
            "difference between to last y: 1.2227700793937952\n",
            "current х: 4.38759675941438, current y: -18.24450600580013\n",
            "difference between to last y: 1.1272599501586562\n",
            "current х: 4.459894884275854, current y: -19.259976407423355\n",
            "difference between to last y: 1.0154704016232259\n",
            "current х: 4.52792510699464, current y: -20.154281973379124\n",
            "difference between to last y: 0.8943055659557686\n",
            "current х: 4.591238616160644, current y: -20.924965114705117\n",
            "difference between to last y: 0.7706831413259927\n",
            "current х: 4.649552192443868, current y: -21.575670044226417\n",
            "difference between to last y: 0.6507049295213001\n",
            "current х: 4.702743616649843, current y: -22.114768781961185\n",
            "difference between to last y: 0.5390987377347685\n",
            "current х: 4.75083542329991, current y: -22.553758265311842\n",
            "difference between to last y: 0.4389894833506567\n",
            "current х: 4.793970973786381, current y: -22.905719833605836\n",
            "difference between to last y: 0.3519615682939943\n",
            "current х: 4.832386982076661, current y: -23.184037054545456\n",
            "difference between to last y: 0.27831722093961986\n",
            "current х: 4.866386004815173, current y: -23.40146035793156\n",
            "difference between to last y: 0.21742330338610216\n",
            "current х: 4.896311391059228, current y: -23.569519599053155\n",
            "difference between to last y: 0.16805924112159687\n",
            "current х: 4.92252611966329, current y: -23.698231759631238\n",
            "difference between to last y: 0.12871216057808255\n",
            "current х: 4.945396055456601, current y: -23.796028705435834\n",
            "difference between to last y: 0.09779694580459619\n",
            "current х: 4.965277519488177, current y: -23.86983003313781\n",
            "difference between to last y: 0.07380132770197534\n",
            "current х: 4.982508690592353, current y: -23.925198263405125\n",
            "difference between to last y: 0.055368230267315965\n",
            "current х: 4.9974041837801595, current y: -23.96652997451397\n",
            "difference between to last y: 0.041331711108846036\n",
            "current х: 5.0102521206401365, current y: -23.997252063196242\n",
            "difference between to last y: 0.03072208868227122\n",
            "current х: 5.02131305998309, current y: -24.02000493952847\n",
            "difference between to last y: 0.02275287633222689\n",
            "current х: 5.0308202499066725, current y: -24.03680359245957\n",
            "difference between to last y: 0.016798652931100833\n",
            "current х: 5.038980766778697, current y: -24.049173471801687\n",
            "difference between to last y: 0.012369879342116974\n",
            "current х: 5.045977205934586, current y: -24.05826171971173\n",
            "difference between to last y: 0.009088247910042924\n",
            "current х: 5.051969675229417, current y: -24.064926166811553\n",
            "difference between to last y: 0.006664447099822723\n",
            "current х: 5.057097913370535, current y: -24.06980528422196\n",
            "difference between to last y: 0.004879117410407474\n",
            "current х: 5.061483410552072, current y: -24.073372398730903\n",
            "difference between to last y: 0.0035671145089430922\n",
            "current х: 5.065231451116612, current y: -24.075977239493596\n",
            "difference between to last y: 0.0026048407626930725\n",
            "current х: 5.068433029078784, current y: -24.077877486066882\n",
            "difference between to last y: 0.001900246573285358\n",
            "current х: 5.071166609647264, current y: -24.079262545104562\n",
            "difference between to last y: 0.0013850590376804917\n",
            "current х: 5.073499725410821, current y: -24.080271359710647\n",
            "difference between to last y: 0.001008814606084485\n",
            "current х: 5.075490406308072, current y: -24.08100568103429\n",
            "difference between to last y: 0.0007343213236445933\n"
          ]
        }
      ],
      "source": [
        "gradient_descent(f, f_dash, x, alpha, epsilon)"
      ]
    },
    {
      "cell_type": "code",
      "source": [
        "draw_plot(f, 0, 10, xs, ys)"
      ],
      "metadata": {
        "colab": {
          "base_uri": "https://localhost:8080/",
          "height": 281
        },
        "id": "A8zTWNnUUrTA",
        "outputId": "d8dd61fb-d2bb-4290-d5fb-fdc19149160f"
      },
      "execution_count": 65,
      "outputs": [
        {
          "output_type": "display_data",
          "data": {
            "text/plain": [
              "<Figure size 432x288 with 1 Axes>"
            ],
            "image/png": "[encoded data removed]"
          },
          "metadata": {
            "needs_background": "light"
          }
        }
      ]
    }
  ],
  "metadata": {
    "kernelspec": {
      "display_name": "Python 3",
      "language": "python",
      "name": "python3"
    },
    "language_info": {
      "codemirror_mode": {
        "name": "ipython",
        "version": 3
      },
      "file_extension": ".py",
      "mimetype": "text/x-python",
      "name": "python",
      "nbconvert_exporter": "python",
      "pygments_lexer": "ipython3",
      "version": "3.6.10"
    },
    "colab": {
      "provenance": []
    }
  },
  "nbformat": 4,
  "nbformat_minor": 0
}